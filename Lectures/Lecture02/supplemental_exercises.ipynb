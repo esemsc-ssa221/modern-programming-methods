{
 "cells": [
  {
   "cell_type": "markdown",
   "metadata": {
    "slideshow": {
     "slide_type": "slide"
    }
   },
   "source": [
    "# Scientific python: NumPy, SciPy and Matplotlib"
   ]
  },
  {
   "cell_type": "markdown",
   "metadata": {},
   "source": [
    "## Supplemental Exercises to Lecture 2\n",
    "\n",
    "  * Learn what NumPy arrays are\n",
    "  * Learn basic array manipulations\n",
    "  * Learn what vectorial code is\n",
    "  * Quick overview of SciPy\n",
    "  * Learn how to do a simple 2D plot and decorate it\n",
    "  * Learn how to combine plots into a single figure"
   ]
  },
  {
   "cell_type": "markdown",
   "metadata": {},
   "source": [
    "## Further reading\n",
    "* http://scipy-lectures.org\n",
    "* https://www.nature.com/articles/s41586-020-2649-2\n",
    "* https://numpy.org/doc/"
   ]
  },
  {
   "cell_type": "markdown",
   "metadata": {},
   "source": [
    "# Supplemental exercises\n",
    "The following is supplimental if you would like more practice on what you have covered:\n"
   ]
  },
  {
   "cell_type": "code",
   "execution_count": 1,
   "metadata": {},
   "outputs": [],
   "source": [
    "# Import pybryt which will be used to check your solutions against reference solutions\n",
    "import pybryt\n",
    "from reflecture import pybryt_reference\n",
    "# Convention: Import numpy and alias/rename it as np\n",
    "import numpy as np"
   ]
  },
  {
   "cell_type": "markdown",
   "metadata": {},
   "source": [
    "### Exercise 2.20\n",
    "We are going to start with an array using the arange method. \n",
    "\n",
    "Use arange to create an array with 20 elements. It should be named `arr`."
   ]
  },
  {
   "cell_type": "code",
   "execution_count": 2,
   "metadata": {},
   "outputs": [],
   "source": [
    "## Solution...\n",
    "arr = np.arange(20)\n"
   ]
  },
  {
   "cell_type": "code",
   "execution_count": 3,
   "metadata": {},
   "outputs": [
    {
     "ename": "FileNotFoundError",
     "evalue": "Reference pkl file does not exists.",
     "output_type": "error",
     "traceback": [
      "\u001b[1;31m---------------------------------------------------------------------------\u001b[0m",
      "\u001b[1;31mFileNotFoundError\u001b[0m                         Traceback (most recent call last)",
      "Cell \u001b[1;32mIn[3], line 2\u001b[0m\n\u001b[0;32m      1\u001b[0m \u001b[38;5;66;03m## do not change any of the following code. It is used to check your work and provide feedback.\u001b[39;00m\n\u001b[1;32m----> 2\u001b[0m \u001b[38;5;28;01mwith\u001b[39;00m pybryt\u001b[38;5;241m.\u001b[39mcheck(\u001b[43mpybryt_reference\u001b[49m\u001b[43m(\u001b[49m\u001b[38;5;241;43m2\u001b[39;49m\u001b[43m,\u001b[49m\u001b[43m \u001b[49m\u001b[38;5;241;43m201\u001b[39;49m\u001b[43m)\u001b[49m):\n\u001b[0;32m      3\u001b[0m     \u001b[38;5;28mprint\u001b[39m(arr)\n",
      "File \u001b[1;32mc:\\Users\\User\\Downloads\\modern-programming-methods\\Lectures\\Lecture02\\reflecture.py:17\u001b[0m, in \u001b[0;36mpybryt_reference\u001b[1;34m(lecture, exercise)\u001b[0m\n\u001b[0;32m     15\u001b[0m     pybryt\u001b[38;5;241m.\u001b[39mReferenceImplementation\u001b[38;5;241m.\u001b[39mcompile(pyfilename)\u001b[38;5;241m.\u001b[39mdump(pklfilename)\n\u001b[0;32m     16\u001b[0m \u001b[38;5;28;01melif\u001b[39;00m \u001b[38;5;129;01mnot\u001b[39;00m os\u001b[38;5;241m.\u001b[39mpath\u001b[38;5;241m.\u001b[39misfile(pklfilename):\n\u001b[1;32m---> 17\u001b[0m     \u001b[38;5;28;01mraise\u001b[39;00m \u001b[38;5;167;01mFileNotFoundError\u001b[39;00m(\u001b[38;5;124m'\u001b[39m\u001b[38;5;124mReference pkl file does not exists.\u001b[39m\u001b[38;5;124m'\u001b[39m)\n\u001b[0;32m     19\u001b[0m \u001b[38;5;28;01mreturn\u001b[39;00m pklfilename\n",
      "\u001b[1;31mFileNotFoundError\u001b[0m: Reference pkl file does not exists."
     ]
    }
   ],
   "source": [
    "## do not change any of the following code. It is used to check your work and provide feedback.\n",
    "with pybryt.check(pybryt_reference(2, 201)):\n",
    "    print(arr)"
   ]
  },
  {
   "cell_type": "markdown",
   "metadata": {},
   "source": [
    "Create a new array called `arr54` formed from the array `arr` we have just created. Using reshape, turn it into a 4 by 5 array."
   ]
  },
  {
   "cell_type": "code",
   "execution_count": 4,
   "metadata": {},
   "outputs": [
    {
     "data": {
      "text/plain": [
       "array([[ 0,  1,  2,  3,  4],\n",
       "       [ 5,  6,  7,  8,  9],\n",
       "       [10, 11, 12, 13, 14],\n",
       "       [15, 16, 17, 18, 19]])"
      ]
     },
     "execution_count": 4,
     "metadata": {},
     "output_type": "execute_result"
    }
   ],
   "source": [
    "## Solution...\n",
    "arr54 = np.reshape(arr,(4,5))\n",
    "arr54\n"
   ]
  },
  {
   "cell_type": "code",
   "execution_count": 5,
   "metadata": {},
   "outputs": [
    {
     "ename": "FileNotFoundError",
     "evalue": "Reference pkl file does not exists.",
     "output_type": "error",
     "traceback": [
      "\u001b[1;31m---------------------------------------------------------------------------\u001b[0m",
      "\u001b[1;31mFileNotFoundError\u001b[0m                         Traceback (most recent call last)",
      "Cell \u001b[1;32mIn[5], line 2\u001b[0m\n\u001b[0;32m      1\u001b[0m \u001b[38;5;66;03m# do not change any of the following code. It is used to check your work and provide feedback.\u001b[39;00m\n\u001b[1;32m----> 2\u001b[0m \u001b[38;5;28;01mwith\u001b[39;00m pybryt\u001b[38;5;241m.\u001b[39mcheck(\u001b[43mpybryt_reference\u001b[49m\u001b[43m(\u001b[49m\u001b[38;5;241;43m2\u001b[39;49m\u001b[43m,\u001b[49m\u001b[43m \u001b[49m\u001b[38;5;241;43m202\u001b[39;49m\u001b[43m)\u001b[49m):\n\u001b[0;32m      3\u001b[0m     \u001b[38;5;28mprint\u001b[39m(arr54)\n",
      "File \u001b[1;32mc:\\Users\\User\\Downloads\\modern-programming-methods\\Lectures\\Lecture02\\reflecture.py:17\u001b[0m, in \u001b[0;36mpybryt_reference\u001b[1;34m(lecture, exercise)\u001b[0m\n\u001b[0;32m     15\u001b[0m     pybryt\u001b[38;5;241m.\u001b[39mReferenceImplementation\u001b[38;5;241m.\u001b[39mcompile(pyfilename)\u001b[38;5;241m.\u001b[39mdump(pklfilename)\n\u001b[0;32m     16\u001b[0m \u001b[38;5;28;01melif\u001b[39;00m \u001b[38;5;129;01mnot\u001b[39;00m os\u001b[38;5;241m.\u001b[39mpath\u001b[38;5;241m.\u001b[39misfile(pklfilename):\n\u001b[1;32m---> 17\u001b[0m     \u001b[38;5;28;01mraise\u001b[39;00m \u001b[38;5;167;01mFileNotFoundError\u001b[39;00m(\u001b[38;5;124m'\u001b[39m\u001b[38;5;124mReference pkl file does not exists.\u001b[39m\u001b[38;5;124m'\u001b[39m)\n\u001b[0;32m     19\u001b[0m \u001b[38;5;28;01mreturn\u001b[39;00m pklfilename\n",
      "\u001b[1;31mFileNotFoundError\u001b[0m: Reference pkl file does not exists."
     ]
    }
   ],
   "source": [
    "# do not change any of the following code. It is used to check your work and provide feedback.\n",
    "with pybryt.check(pybryt_reference(2, 202)):\n",
    "    print(arr54)"
   ]
  },
  {
   "cell_type": "markdown",
   "metadata": {},
   "source": [
    "Now change all the elements in the 3rd row of `arr54` to zero."
   ]
  },
  {
   "cell_type": "code",
   "execution_count": 7,
   "metadata": {},
   "outputs": [
    {
     "data": {
      "text/plain": [
       "array([[ 0,  1,  2,  3,  4],\n",
       "       [ 5,  6,  7,  8,  9],\n",
       "       [ 0,  0,  0,  0,  0],\n",
       "       [15, 16, 17, 18, 19]])"
      ]
     },
     "execution_count": 7,
     "metadata": {},
     "output_type": "execute_result"
    }
   ],
   "source": [
    "## Solution...\n",
    "arr54[2,:] = 0\n",
    "arr54"
   ]
  },
  {
   "cell_type": "code",
   "execution_count": 8,
   "metadata": {},
   "outputs": [
    {
     "ename": "FileNotFoundError",
     "evalue": "Reference pkl file does not exists.",
     "output_type": "error",
     "traceback": [
      "\u001b[1;31m---------------------------------------------------------------------------\u001b[0m",
      "\u001b[1;31mFileNotFoundError\u001b[0m                         Traceback (most recent call last)",
      "Cell \u001b[1;32mIn[8], line 2\u001b[0m\n\u001b[0;32m      1\u001b[0m \u001b[38;5;66;03m# do not change any of the following code. It is used to check your work and provide feedback.\u001b[39;00m\n\u001b[1;32m----> 2\u001b[0m \u001b[38;5;28;01mwith\u001b[39;00m pybryt\u001b[38;5;241m.\u001b[39mcheck(\u001b[43mpybryt_reference\u001b[49m\u001b[43m(\u001b[49m\u001b[38;5;241;43m2\u001b[39;49m\u001b[43m,\u001b[49m\u001b[43m \u001b[49m\u001b[38;5;241;43m203\u001b[39;49m\u001b[43m)\u001b[49m):\n\u001b[0;32m      3\u001b[0m     \u001b[38;5;28mprint\u001b[39m(arr54)\n",
      "File \u001b[1;32mc:\\Users\\User\\Downloads\\modern-programming-methods\\Lectures\\Lecture02\\reflecture.py:17\u001b[0m, in \u001b[0;36mpybryt_reference\u001b[1;34m(lecture, exercise)\u001b[0m\n\u001b[0;32m     15\u001b[0m     pybryt\u001b[38;5;241m.\u001b[39mReferenceImplementation\u001b[38;5;241m.\u001b[39mcompile(pyfilename)\u001b[38;5;241m.\u001b[39mdump(pklfilename)\n\u001b[0;32m     16\u001b[0m \u001b[38;5;28;01melif\u001b[39;00m \u001b[38;5;129;01mnot\u001b[39;00m os\u001b[38;5;241m.\u001b[39mpath\u001b[38;5;241m.\u001b[39misfile(pklfilename):\n\u001b[1;32m---> 17\u001b[0m     \u001b[38;5;28;01mraise\u001b[39;00m \u001b[38;5;167;01mFileNotFoundError\u001b[39;00m(\u001b[38;5;124m'\u001b[39m\u001b[38;5;124mReference pkl file does not exists.\u001b[39m\u001b[38;5;124m'\u001b[39m)\n\u001b[0;32m     19\u001b[0m \u001b[38;5;28;01mreturn\u001b[39;00m pklfilename\n",
      "\u001b[1;31mFileNotFoundError\u001b[0m: Reference pkl file does not exists."
     ]
    }
   ],
   "source": [
    "# do not change any of the following code. It is used to check your work and provide feedback.\n",
    "with pybryt.check(pybryt_reference(2, 203)):\n",
    "    print(arr54)"
   ]
  },
  {
   "cell_type": "markdown",
   "metadata": {},
   "source": [
    "Next let us reverse the order of the columns, as save the result in a new array called `arr54_flipped`. You can use `np.flip` or array slicing to achieve this."
   ]
  },
  {
   "cell_type": "code",
   "execution_count": 21,
   "metadata": {},
   "outputs": [
    {
     "data": {
      "text/plain": [
       "array([[ 4,  3,  2,  1,  0],\n",
       "       [ 9,  8,  7,  6,  5],\n",
       "       [ 0,  0,  0,  0,  0],\n",
       "       [19, 18, 17, 16, 15]])"
      ]
     },
     "execution_count": 21,
     "metadata": {},
     "output_type": "execute_result"
    }
   ],
   "source": [
    "## Solution...\n",
    "\n",
    "arr54_flipped = np.flip(arr54,1) # axis 1 gets flipped(columns)\n",
    "arr54_flipped\n",
    "\n",
    "#arr54_flipped = arr54[:,::-1]\n",
    "#arr54_flipped\n"
   ]
  },
  {
   "cell_type": "code",
   "execution_count": 22,
   "metadata": {},
   "outputs": [
    {
     "ename": "FileNotFoundError",
     "evalue": "Reference pkl file does not exists.",
     "output_type": "error",
     "traceback": [
      "\u001b[1;31m---------------------------------------------------------------------------\u001b[0m",
      "\u001b[1;31mFileNotFoundError\u001b[0m                         Traceback (most recent call last)",
      "Cell \u001b[1;32mIn[22], line 2\u001b[0m\n\u001b[0;32m      1\u001b[0m \u001b[38;5;66;03m# do not change any of the following code. It is used to check your work and provide feedback.\u001b[39;00m\n\u001b[1;32m----> 2\u001b[0m \u001b[38;5;28;01mwith\u001b[39;00m pybryt\u001b[38;5;241m.\u001b[39mcheck(\u001b[43mpybryt_reference\u001b[49m\u001b[43m(\u001b[49m\u001b[38;5;241;43m2\u001b[39;49m\u001b[43m,\u001b[49m\u001b[43m \u001b[49m\u001b[38;5;241;43m204\u001b[39;49m\u001b[43m)\u001b[49m):\n\u001b[0;32m      3\u001b[0m     \u001b[38;5;28mprint\u001b[39m(arr54_flipped)\n",
      "File \u001b[1;32mc:\\Users\\User\\Downloads\\modern-programming-methods\\Lectures\\Lecture02\\reflecture.py:17\u001b[0m, in \u001b[0;36mpybryt_reference\u001b[1;34m(lecture, exercise)\u001b[0m\n\u001b[0;32m     15\u001b[0m     pybryt\u001b[38;5;241m.\u001b[39mReferenceImplementation\u001b[38;5;241m.\u001b[39mcompile(pyfilename)\u001b[38;5;241m.\u001b[39mdump(pklfilename)\n\u001b[0;32m     16\u001b[0m \u001b[38;5;28;01melif\u001b[39;00m \u001b[38;5;129;01mnot\u001b[39;00m os\u001b[38;5;241m.\u001b[39mpath\u001b[38;5;241m.\u001b[39misfile(pklfilename):\n\u001b[1;32m---> 17\u001b[0m     \u001b[38;5;28;01mraise\u001b[39;00m \u001b[38;5;167;01mFileNotFoundError\u001b[39;00m(\u001b[38;5;124m'\u001b[39m\u001b[38;5;124mReference pkl file does not exists.\u001b[39m\u001b[38;5;124m'\u001b[39m)\n\u001b[0;32m     19\u001b[0m \u001b[38;5;28;01mreturn\u001b[39;00m pklfilename\n",
      "\u001b[1;31mFileNotFoundError\u001b[0m: Reference pkl file does not exists."
     ]
    }
   ],
   "source": [
    "# do not change any of the following code. It is used to check your work and provide feedback.\n",
    "with pybryt.check(pybryt_reference(2, 204)):\n",
    "    print(arr54_flipped)"
   ]
  },
  {
   "cell_type": "code",
   "execution_count": null,
   "metadata": {},
   "outputs": [],
   "source": []
  }
 ],
 "metadata": {
  "anaconda-cloud": {},
  "celltoolbar": "Raw Cell Format",
  "kernelspec": {
   "display_name": "Python 3",
   "language": "python",
   "name": "python3"
  },
  "language_info": {
   "codemirror_mode": {
    "name": "ipython",
    "version": 3
   },
   "file_extension": ".py",
   "mimetype": "text/x-python",
   "name": "python",
   "nbconvert_exporter": "python",
   "pygments_lexer": "ipython3",
   "version": "3.8.20"
  }
 },
 "nbformat": 4,
 "nbformat_minor": 1
}
