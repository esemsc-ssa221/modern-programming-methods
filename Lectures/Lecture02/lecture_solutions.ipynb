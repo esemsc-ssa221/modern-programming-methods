{
 "cells": [
  {
   "cell_type": "markdown",
   "metadata": {
    "slideshow": {
     "slide_type": "slide"
    }
   },
   "source": [
    "# Scientific python: NumPy, SciPy and Matplotlib: Solutions"
   ]
  },
  {
   "cell_type": "markdown",
   "metadata": {},
   "source": [
    "This notebook contains example solutions to the exercises introduced in Lecture 1.\n",
    "\n",
    "This notebook should also be opened within the `ese-msc` (or a similar custom made) environment to ensure that all cells below can be ran successfully."
   ]
  },
  {
   "cell_type": "markdown",
   "metadata": {
    "slideshow": {
     "slide_type": "slide"
    }
   },
   "source": [
    "### Required imports"
   ]
  },
  {
   "cell_type": "code",
   "execution_count": 1,
   "metadata": {},
   "outputs": [],
   "source": [
    "# Import pybryt which will be used to check your solutions against reference solutions\n",
    "import pybryt\n",
    "from reflecture import pybryt_reference"
   ]
  },
  {
   "cell_type": "code",
   "execution_count": 2,
   "metadata": {
    "slideshow": {
     "slide_type": "-"
    }
   },
   "outputs": [],
   "source": [
    "# Convention: Import numpy and alias/rename it as np\n",
    "import numpy as np\n",
    "\n",
    "from pprint import pprint"
   ]
  },
  {
   "cell_type": "markdown",
   "metadata": {},
   "source": [
    "### <span style=\"color:blue\">Exercise 2.1</span>\n",
    "Add comments explaining what the following `NumPy` functions do."
   ]
  },
  {
   "cell_type": "code",
   "execution_count": 3,
   "metadata": {
    "slideshow": {
     "slide_type": "-"
    }
   },
   "outputs": [
    {
     "name": "stdout",
     "output_type": "stream",
     "text": [
      "[0. 0. 0.]\n"
     ]
    }
   ],
   "source": [
    "# Create an array of zeros of length 3\n",
    "b = np.zeros(3)\n",
    "print(b)"
   ]
  },
  {
   "cell_type": "code",
   "execution_count": 4,
   "metadata": {
    "slideshow": {
     "slide_type": "-"
    }
   },
   "outputs": [
    {
     "name": "stdout",
     "output_type": "stream",
     "text": [
      "[1. 1. 1.]\n"
     ]
    }
   ],
   "source": [
    "# Create an array of ones of length 3\n",
    "c = np.ones(3)\n",
    "print(c)"
   ]
  },
  {
   "cell_type": "code",
   "execution_count": 5,
   "metadata": {},
   "outputs": [
    {
     "name": "stdout",
     "output_type": "stream",
     "text": [
      "[[1. 0. 0.]\n",
      " [0. 1. 0.]\n",
      " [0. 0. 1.]]\n"
     ]
    }
   ],
   "source": [
    "# Create a 2-D array with ones on the diagonal and zeros elsewhere\n",
    "d = np.eye(3)\n",
    "print(d)"
   ]
  },
  {
   "cell_type": "markdown",
   "metadata": {},
   "source": [
    "### <span style=\"color:blue\">Exercise 2.2</span>\n",
    "\n",
    "Work out the shape of the resulting arrays by 'sight'. <br>"
   ]
  },
  {
   "cell_type": "code",
   "execution_count": 6,
   "metadata": {},
   "outputs": [],
   "source": [
    "## don't change the following line of code in any way\n",
    "a = np.array([[11, 12, 13], [21, 22, 23], [31, 32, 33], [41, 42, 43]])\n",
    "b = np.array([[[1, 1], [2, 2], [3, 3], [4, 4]], [[1, 1], [2, 2], [3, 3], [4, 4]],\n",
    "              [[1, 1], [2, 2], [3, 3], [4, 4]]])"
   ]
  },
  {
   "cell_type": "markdown",
   "metadata": {},
   "source": [
    "Now, write their shapes as `tuple`s in the cell below:"
   ]
  },
  {
   "cell_type": "code",
   "execution_count": 7,
   "metadata": {
    "slideshow": {
     "slide_type": "-"
    }
   },
   "outputs": [],
   "source": [
    "## Solution...\n",
    "shape_a = (4, 3)\n",
    "shape_b = (3, 4, 2)"
   ]
  },
  {
   "cell_type": "code",
   "execution_count": 8,
   "metadata": {},
   "outputs": [
    {
     "name": "stdout",
     "output_type": "stream",
     "text": [
      "REFERENCE: exercise-2_21\n",
      "SATISFIED: True\n",
      "MESSAGES:\n",
      "  - SUCCESS: Array `a` checked: OK\n",
      "  - SUCCESS: Correct number of columns and/or rows\n"
     ]
    }
   ],
   "source": [
    "## The following code is used to check your solution and should not be modified\n",
    "## It should help you by providing feedback to the solution you have provided\n",
    "with pybryt.check(pybryt_reference(2, 21)):\n",
    "    a\n",
    "    shape_a"
   ]
  },
  {
   "cell_type": "code",
   "execution_count": 9,
   "metadata": {},
   "outputs": [
    {
     "name": "stdout",
     "output_type": "stream",
     "text": [
      "REFERENCE: exercise-2_22\n",
      "SATISFIED: True\n",
      "MESSAGES:\n",
      "  - SUCCESS: Array `b` checked: OK\n",
      "  - SUCCESS: Correct number of columns and/or rows\n"
     ]
    }
   ],
   "source": [
    "## The following code is used to check your solution and should not be modified\n",
    "## It should help you by providing feedback to the solution you have provided\n",
    "with pybryt.check(pybryt_reference(2, 22)):\n",
    "    b\n",
    "    shape_b"
   ]
  },
  {
   "cell_type": "code",
   "execution_count": 10,
   "metadata": {
    "slideshow": {
     "slide_type": "-"
    }
   },
   "outputs": [
    {
     "name": "stdout",
     "output_type": "stream",
     "text": [
      "array([[11, 12, 13],\n",
      "       [21, 22, 23],\n",
      "       [31, 32, 33],\n",
      "       [41, 42, 43]])\n",
      "a (4, 3)\n",
      "2\n",
      "12\n"
     ]
    }
   ],
   "source": [
    "pprint(a)\n",
    "print(\"a\", a.shape)\n",
    "print(a.ndim)\n",
    "print(a.size)"
   ]
  },
  {
   "cell_type": "code",
   "execution_count": 11,
   "metadata": {
    "slideshow": {
     "slide_type": "-"
    }
   },
   "outputs": [
    {
     "name": "stdout",
     "output_type": "stream",
     "text": [
      "array([[[1, 1],\n",
      "        [2, 2],\n",
      "        [3, 3],\n",
      "        [4, 4]],\n",
      "\n",
      "       [[1, 1],\n",
      "        [2, 2],\n",
      "        [3, 3],\n",
      "        [4, 4]],\n",
      "\n",
      "       [[1, 1],\n",
      "        [2, 2],\n",
      "        [3, 3],\n",
      "        [4, 4]]])\n",
      "b (3, 4, 2)\n",
      "3\n",
      "24\n"
     ]
    }
   ],
   "source": [
    "pprint(b)\n",
    "print(\"b\", b.shape)\n",
    "print(b.ndim)\n",
    "print(b.size)"
   ]
  },
  {
   "cell_type": "markdown",
   "metadata": {},
   "source": [
    "### <span style=\"color:blue\">Exercise 2.3</span>\n",
    "\n",
    "Manually create an `np.array` called `b` which is equivalent to the output of `a[2:-3:2]`."
   ]
  },
  {
   "cell_type": "code",
   "execution_count": 12,
   "metadata": {},
   "outputs": [],
   "source": [
    "# First set `a` as in the lecture:\n",
    "a = np.arange(8)"
   ]
  },
  {
   "cell_type": "code",
   "execution_count": 13,
   "metadata": {},
   "outputs": [],
   "source": [
    "## Solution...\n",
    "b = np.array([2, 4])"
   ]
  },
  {
   "cell_type": "code",
   "execution_count": 14,
   "metadata": {
    "slideshow": {
     "slide_type": "-"
    }
   },
   "outputs": [
    {
     "name": "stdout",
     "output_type": "stream",
     "text": [
      "REFERENCE: exercise-2_3\n",
      "SATISFIED: True\n",
      "MESSAGES:\n",
      "  - SUCCESS: array `a` checked: OK\n",
      "  - SUCCESS: That would be the correct output.\n"
     ]
    }
   ],
   "source": [
    "## The following code is used to check your solution and should not be modified\n",
    "## It should help you by providing feedback to the solution you have provided\n",
    "with pybryt.check(pybryt_reference(2, 3)):\n",
    "    a\n",
    "    b"
   ]
  },
  {
   "cell_type": "markdown",
   "metadata": {},
   "source": [
    "### <span style=\"color:blue\">Exercise 2.4</span>\n",
    "Create a two-dimensional array called `m` to represent the following matrix,\n",
    "$$\n",
    "\\mathbf{m} = \\left\\lbrack\\begin{array}{ccc}\n",
    "1 & 1 & 2\\cr\n",
    "3 & 5 & 8\\cr\n",
    "13 & 21 & 34\\cr\n",
    "55 & 89 & 144\n",
    "\\end{array}\\right\\rbrack\n",
    "$$\n",
    "\n",
    "Then change all the elements with values 21, 34, 89, and 144 in matrix `m` (i.e. bottom right corner elements) to 1001 by using a slice."
   ]
  },
  {
   "cell_type": "code",
   "execution_count": 15,
   "metadata": {
    "slideshow": {
     "slide_type": "-"
    }
   },
   "outputs": [
    {
     "name": "stdout",
     "output_type": "stream",
     "text": [
      "array([[  1,   1,   2],\n",
      "       [  3,   5,   8],\n",
      "       [ 13,  21,  34],\n",
      "       [ 55,  89, 144]])\n",
      "array([[   1,    1,    2],\n",
      "       [   3,    5,    8],\n",
      "       [  13, 1001, 1001],\n",
      "       [  55, 1001, 1001]])\n"
     ]
    }
   ],
   "source": [
    "## Solution...\n",
    "m = np.array([[1,1,2],[3,5,8],[13,21,34],[55,89,144]])\n",
    "pprint(m)\n",
    "\n",
    "s = m[2:4,1:3]\n",
    "s[:,:] = 1001\n",
    "\n",
    "pprint(m)"
   ]
  },
  {
   "cell_type": "code",
   "execution_count": 16,
   "metadata": {
    "scrolled": true
   },
   "outputs": [
    {
     "name": "stdout",
     "output_type": "stream",
     "text": [
      "REFERENCE: exercise-2_4\n",
      "SATISFIED: True\n",
      "MESSAGES:\n",
      "  - SUCCESS: Great, you have succesfully affected the change to the array.\n"
     ]
    }
   ],
   "source": [
    "# The following code is used to check your answer and should not be modified\n",
    "with pybryt.check(pybryt_reference(2, 4)):\n",
    "    m"
   ]
  },
  {
   "cell_type": "markdown",
   "metadata": {},
   "source": [
    "### <span style=\"color:blue\">Exercise 2.5</span>\n",
    "\n",
    "How is `reshape()` different from `resize()`? Recall that you can view docstrings via, e.g., `print(np.reshape.__doc__)` or `help(np.reshape)` etc."
   ]
  },
  {
   "cell_type": "code",
   "execution_count": 17,
   "metadata": {},
   "outputs": [
    {
     "name": "stdout",
     "output_type": "stream",
     "text": [
      "array([[0, 1, 2, 3],\n",
      "       [4, 5, 6, 7]])\n",
      "array([[0, 1, 2, 3],\n",
      "       [4, 5, 6, 7]])\n",
      "array([[0, 1, 2, 3, 4, 5, 6, 7],\n",
      "       [0, 1, 2, 3, 4, 5, 6, 7]])\n",
      "array([[0, 1],\n",
      "       [2, 3]])\n"
     ]
    }
   ],
   "source": [
    "# Let's use this simple array to run the check.\n",
    "e = np.arange(8)\n",
    "# check if/how reshape and resize are different using the array above:\n",
    "\n",
    "# try the following:\n",
    "e1 = np.reshape(e, (2, 4))\n",
    "e2 = np.resize(e, (2, 4))\n",
    "\n",
    "# They should both produce arrays of shape (2, 4)\n",
    "pprint(e1)\n",
    "pprint(e2)\n",
    "\n",
    "# note that np.reshape needs to have the same number of elements\n",
    "# as the original array, while resize can be larger or smaller\n",
    "\n",
    "# for example, the following will work (note that the elements\n",
    "# are repeated when the new array is larger than the old one):\n",
    "e3 = np.resize(e, (2, 8))\n",
    "e4 = np.resize(e, (2, 2))\n",
    "\n",
    "pprint(e3)\n",
    "pprint(e4)\n",
    "\n",
    "# however, these will not work. Try uncommenting them to see for yourself.\n",
    "#e5 = np.reshape(e, (2, 8))\n",
    "#e6 = np.reshape(2, (2, 2))"
   ]
  },
  {
   "cell_type": "markdown",
   "metadata": {},
   "source": [
    "### <span style=\"color:blue\">Exercise 2.6</span>\n",
    "\n",
    "Let $A$ be the two-dimensional array\n",
    "$$\n",
    "\\mathbf{A} = \\left\\lbrack\\begin{array}{ccc}\n",
    "2 & 1 & 0\\cr\n",
    "-1 & 2 & 1\\cr\n",
    "0 & -1 & 2\n",
    "\\end{array}\\right\\rbrack\n",
    "$$\n",
    "\n",
    "In the following cell, initialise `A` as an `np.array`."
   ]
  },
  {
   "cell_type": "code",
   "execution_count": 18,
   "metadata": {},
   "outputs": [
    {
     "name": "stdout",
     "output_type": "stream",
     "text": [
      "array([[ 2,  1,  0],\n",
      "       [-1,  2,  1],\n",
      "       [ 0, -1,  2]])\n"
     ]
    }
   ],
   "source": [
    "## Solution...\n",
    "A = np.array([[2,1,0], [-1,2,1], [0,-1,2]])\n",
    "\n",
    "pprint(A)"
   ]
  },
  {
   "cell_type": "markdown",
   "metadata": {},
   "source": [
    "Next, implement the function\n",
    "$$\n",
    "f(x) = x^3 + xe^x + 1\n",
    "$$\n",
    "and then apply it to the array $A$. <br>\n",
    "To check you get the expected  result ensure the function is called `f_02_06`, i.e. implement as `def f_02_06(x): ...`"
   ]
  },
  {
   "cell_type": "code",
   "execution_count": 19,
   "metadata": {},
   "outputs": [],
   "source": [
    "# Solution...\n",
    "e = np.e\n",
    "def f_02_06(x):\n",
    "    x = x**3 + x*e**x + 1\n",
    "    return x"
   ]
  },
  {
   "cell_type": "code",
   "execution_count": 20,
   "metadata": {},
   "outputs": [
    {
     "name": "stdout",
     "output_type": "stream",
     "text": [
      "REFERENCE: exercise-2_6\n",
      "SATISFIED: True\n",
      "MESSAGES:\n",
      "  - Matrix `A` checked and it looks good.\n",
      "  - SUCCESS: Amazing! Your function returns the correct solution.\n"
     ]
    }
   ],
   "source": [
    "## The following code is used to check your solution and should not be modified\n",
    "## It should help you by providing feedback to the solution you have provided\n",
    "with pybryt.check(pybryt_reference(2, 6)):\n",
    "    f_02_06(A)"
   ]
  },
  {
   "cell_type": "markdown",
   "metadata": {
    "slideshow": {
     "slide_type": "-"
    }
   },
   "source": [
    "### <span style=\"color:blue\">Exercise 2.7</span>\n",
    "\n",
    "See what arrays you can create from some of the functions listed above. An example is provided for concatenate but experiment with some of the other fuctions listed."
   ]
  },
  {
   "cell_type": "code",
   "execution_count": 21,
   "metadata": {},
   "outputs": [
    {
     "name": "stdout",
     "output_type": "stream",
     "text": [
      "[[ 1  2  3  7  8  9]\n",
      " [ 4  5  6 10 11 12]]\n"
     ]
    }
   ],
   "source": [
    "## e.g., let's see what concatenate does:\n",
    "a1 = np.array([[1,2,3],[4,5,6]])\n",
    "a2 = np.array([[7,8,9],[10,11,12]])\n",
    "a3 = np.concatenate((a1,a2),axis=1)\n",
    "print(a3)"
   ]
  },
  {
   "cell_type": "markdown",
   "metadata": {},
   "source": [
    "Use `concatenate` to combine arrays `a1` and `a2` into an array called `a4` with the following arrangement:\n",
    "$$\n",
    "\\left\\lbrack\\begin{array}{ccc}\n",
    "1 & 2 & 3\\cr\n",
    "4 & 5 & 6\\cr\n",
    "7 & 8 & 9\\cr\n",
    "10 & 11 & 12\n",
    "\\end{array}\\right\\rbrack\n",
    "$$"
   ]
  },
  {
   "cell_type": "code",
   "execution_count": 22,
   "metadata": {},
   "outputs": [
    {
     "name": "stdout",
     "output_type": "stream",
     "text": [
      "array([[ 1,  2,  3],\n",
      "       [ 4,  5,  6],\n",
      "       [ 7,  8,  9],\n",
      "       [10, 11, 12]])\n"
     ]
    }
   ],
   "source": [
    "## Solution...\n",
    "a4 = np.concatenate((a1,a2),axis=0)\n",
    "pprint(a4)"
   ]
  },
  {
   "cell_type": "code",
   "execution_count": 23,
   "metadata": {},
   "outputs": [
    {
     "name": "stdout",
     "output_type": "stream",
     "text": [
      "REFERENCE: exercise-2_7\n",
      "SATISFIED: True\n",
      "MESSAGES:\n",
      "  - SUCCESS: Array `a1` check: OK.\n",
      "  - SUCCESS: Array `a2` check: OK.\n",
      "  - SUCCESS: Super! Array `a4` appears as expected.\n"
     ]
    }
   ],
   "source": [
    "## The following code is used to check your solution and should not be modified\n",
    "## It should help you by providing feedback to the solution you have provided\n",
    "with pybryt.check(pybryt_reference(2, 7)):\n",
    "    a1\n",
    "    a2\n",
    "    a4"
   ]
  },
  {
   "cell_type": "markdown",
   "metadata": {},
   "source": [
    "### <span style=\"color:blue\">Exercise 2.8</span>\n",
    "\n",
    "Use `base` to check if array `q` is a copy of array `p`. Use `base` to check. <br>\n",
    "Now, do the same for a simple indexed slice of `p` (e.g. `p[1:2,3:4]`)."
   ]
  },
  {
   "cell_type": "code",
   "execution_count": 24,
   "metadata": {},
   "outputs": [],
   "source": [
    "# Set p and q as in the lecture\n",
    "p = np.array([[0, 1, 2],[3, 4, 5],[6, 7,8],[9, 10, 11]])\n",
    "rows = [0, 0, 3, 3]   # indices for rows\n",
    "cols = [0, 2, 0, 2]   # indices for columns\n",
    "q = p[rows, cols]"
   ]
  },
  {
   "cell_type": "code",
   "execution_count": 25,
   "metadata": {},
   "outputs": [
    {
     "name": "stdout",
     "output_type": "stream",
     "text": [
      "False\n",
      "True\n"
     ]
    }
   ],
   "source": [
    "# Solution...\n",
    "print(q.base is p)\n",
    "s = p[1:2,3:4]\n",
    "print(s.base is p)"
   ]
  },
  {
   "cell_type": "markdown",
   "metadata": {},
   "source": [
    "### <span style=\"color:blue\">Exercise 2.9</span>\n",
    "\n",
    "Challenge yourself to anticipate the output of the following code before running it."
   ]
  },
  {
   "cell_type": "code",
   "execution_count": 26,
   "metadata": {
    "slideshow": {
     "slide_type": "-"
    }
   },
   "outputs": [
    {
     "name": "stdout",
     "output_type": "stream",
     "text": [
      "[0 1 2 3 4 5 6 7 8 9]\n"
     ]
    }
   ],
   "source": [
    "a = np.arange(10)\n",
    "print(a)\n",
    "mask = np.ones(len(a), dtype=bool)\n",
    "mask[[0,2,4]] = False  # set certain mask values to False\n",
    "result = a[mask]"
   ]
  },
  {
   "cell_type": "markdown",
   "metadata": {},
   "source": [
    " Check if you are correct by by printing the array `result`. i.e. `pprint`"
   ]
  },
  {
   "cell_type": "code",
   "execution_count": 27,
   "metadata": {},
   "outputs": [
    {
     "name": "stdout",
     "output_type": "stream",
     "text": [
      "array([1, 3, 5, 6, 7, 8, 9])\n"
     ]
    }
   ],
   "source": [
    "## check using pprint\n",
    "pprint(result)"
   ]
  },
  {
   "cell_type": "markdown",
   "metadata": {},
   "source": [
    "Now write a function called `f_02_09` using `mask` to return an array function with the following elements from array `a` removed: 3, 5, and 9. <br>\n",
    "That is, the function should take the array `a` as input and return the 'modified' `a` (without elements 3, 5 and 9)."
   ]
  },
  {
   "cell_type": "code",
   "execution_count": 28,
   "metadata": {},
   "outputs": [],
   "source": [
    "## Solution...\n",
    "def f_02_09(x):\n",
    "    mask = np.ones(len(x), dtype=bool)\n",
    "    mask[[3,5,9]] = False\n",
    "    return a[mask]"
   ]
  },
  {
   "cell_type": "code",
   "execution_count": 29,
   "metadata": {},
   "outputs": [
    {
     "name": "stdout",
     "output_type": "stream",
     "text": [
      "[0 1 2 4 6 7 8]\n",
      "REFERENCE: exercise-2_9\n",
      "SATISFIED: True\n",
      "MESSAGES:\n",
      "  - SUCCESS: You are using the correct input parameter to test your function.\n",
      "  - SUCCESS: Great! Your function returns the correct result.\n"
     ]
    }
   ],
   "source": [
    "## The following code is used to check you solution and should not be modified\n",
    "## It should help you by providing feedback to the solution you have provided\n",
    "with pybryt.check(pybryt_reference(2, 9)):\n",
    "    print(f_02_09(a))"
   ]
  },
  {
   "cell_type": "markdown",
   "metadata": {
    "collapsed": true,
    "jupyter": {
     "outputs_hidden": true
    },
    "slideshow": {
     "slide_type": "-"
    }
   },
   "source": [
    "### <span style=\"color:blue\">Exercise 2.10</span>\n",
    "\n",
    "Explore other ways of generating random numbers. <br>\n",
    "Below you will find an example for generating samples from a binomial distribution. <br>\n",
    "What other distributions can you sample? <br>\n",
    "Further documentation: https://numpy.org/doc/stable/reference/random/generator.html"
   ]
  },
  {
   "cell_type": "code",
   "execution_count": 30,
   "metadata": {},
   "outputs": [
    {
     "name": "stdout",
     "output_type": "stream",
     "text": [
      "array([4, 1, 3, 3, 2, 3, 3, 0, 2, 3, 1, 2, 2, 4, 2, 3, 2, 2, 3, 2, 5, 2,\n",
      "       4, 3, 4])\n"
     ]
    }
   ],
   "source": [
    "s = np.random.binomial(5, 0.5, size=25)\n",
    "pprint(s)"
   ]
  },
  {
   "cell_type": "code",
   "execution_count": 31,
   "metadata": {},
   "outputs": [
    {
     "name": "stdout",
     "output_type": "stream",
     "text": [
      "array([-0.16666213, -0.03471012,  0.00991981,  0.27287413,  0.20325771,\n",
      "        0.05378152, -0.09909878, -0.13759454,  0.036035  ,  0.05671238,\n",
      "       -0.36861755,  0.02130462,  0.06353109,  0.25905595, -0.12405614,\n",
      "        0.10370073,  0.15303469, -0.15565382,  0.16027013,  0.24434903,\n",
      "       -0.01101086, -0.27648239, -0.10584053, -0.02223909, -0.20926545,\n",
      "       -0.08308748, -0.07019103,  0.13501994,  0.03480487, -0.07526909,\n",
      "       -0.33048111, -0.16521052, -0.22870937,  0.08260352, -0.28455659])\n",
      "array([ 6, 11, 13, 11, 11,  9, 11,  6,  6,  8,  7, 11, 10,  9, 10,  9, 11,\n",
      "       10,  9, 11, 15,  9, 10, 13,  8])\n"
     ]
    }
   ],
   "source": [
    "# Test some other distributions here\n",
    "\n",
    "# First we could draw some numbers from a normal (Gaussian) distribution\n",
    "# with a mean of 0 and a standart deviation of 0.2\n",
    "mu, sigma = 0, 0.2 # mean and standard deviation\n",
    "s = np.random.normal(mu, sigma, size=35)\n",
    "pprint(s)\n",
    "\n",
    "# Or we could try a poisson distribution:\n",
    "lam = 10\n",
    "s = np.random.poisson(lam, size=25)\n",
    "pprint(s)"
   ]
  },
  {
   "cell_type": "markdown",
   "metadata": {
    "slideshow": {
     "slide_type": "-"
    }
   },
   "source": [
    "### <span style=\"color:blue\">Exercise 2.11</span>\n",
    "\n",
    "What do `numpy.save()` and `numpy.load()` do ?"
   ]
  },
  {
   "cell_type": "code",
   "execution_count": 32,
   "metadata": {},
   "outputs": [
    {
     "name": "stdout",
     "output_type": "stream",
     "text": [
      "array([ 0,  1,  2,  3,  4,  5,  6,  7,  8,  9, 10, 11, 12, 13, 14, 15, 16,\n",
      "       17, 18, 19, 20, 21, 22, 23, 24])\n",
      "array([ 0,  1,  2,  3,  4,  5,  6,  7,  8,  9, 10, 11, 12, 13, 14, 15, 16,\n",
      "       17, 18, 19, 20, 21, 22, 23, 24])\n"
     ]
    }
   ],
   "source": [
    "# try using numpy.save() and numpy.load() here:\n",
    "\n",
    "# create an array\n",
    "A = np.arange(25)\n",
    "\n",
    "# save it to a file\n",
    "np.save('myfile.npy', A)\n",
    "\n",
    "# load it from the file into a new array, A2\n",
    "A2 = np.load('myfile.npy')\n",
    "\n",
    "# check the arrays match\n",
    "pprint(A)\n",
    "pprint(A2)"
   ]
  },
  {
   "cell_type": "markdown",
   "metadata": {
    "slideshow": {
     "slide_type": "subslide"
    }
   },
   "source": [
    "### <span style=\"color:blue\">Exercise 2.12</span>\n",
    "\n",
    "Here are some `timeit` experiments for you to try. Check which methods are faster?"
   ]
  },
  {
   "cell_type": "code",
   "execution_count": 33,
   "metadata": {
    "slideshow": {
     "slide_type": "-"
    }
   },
   "outputs": [
    {
     "name": "stdout",
     "output_type": "stream",
     "text": [
      "148 ns ± 1.5 ns per loop (mean ± std. dev. of 3 runs, 10,000,000 loops each)\n",
      "70.9 ns ± 0.685 ns per loop (mean ± std. dev. of 3 runs, 10,000,000 loops each)\n"
     ]
    }
   ],
   "source": [
    "# Accessing a 2d array\n",
    "nd = np.arange(100).reshape((10,10))\n",
    "\n",
    "# accessing element of 2d array\n",
    "%timeit -n 10000000 -r 3 nd[5][5]\n",
    "%timeit -n 10000000 -r 3 nd[5,5]"
   ]
  },
  {
   "cell_type": "code",
   "execution_count": 34,
   "metadata": {
    "slideshow": {
     "slide_type": "-"
    }
   },
   "outputs": [
    {
     "name": "stdout",
     "output_type": "stream",
     "text": [
      "184 ms ± 49.3 ms per loop (mean ± std. dev. of 10 runs, 1 loop each)\n",
      "164 ms ± 33 ms per loop (mean ± std. dev. of 10 runs, 1 loop each)\n"
     ]
    }
   ],
   "source": [
    "# Multiplying two vectors\n",
    "x = np.arange(10E7)\n",
    "%timeit -n 1 -r 10 x*x\n",
    "%timeit -n 1 -r 10 x**2"
   ]
  },
  {
   "cell_type": "code",
   "execution_count": 35,
   "metadata": {
    "slideshow": {
     "slide_type": "-"
    }
   },
   "outputs": [
    {
     "name": "stdout",
     "output_type": "stream",
     "text": [
      "39.9 ms ± 3.74 ms per loop (mean ± std. dev. of 7 runs, 10 loops each)\n",
      "69 ms ± 1.82 ms per loop (mean ± std. dev. of 7 runs, 10 loops each)\n",
      "2.99 ms ± 139 μs per loop (mean ± std. dev. of 7 runs, 100 loops each)\n"
     ]
    }
   ],
   "source": [
    "# Comparing range functions and iterating in loops\n",
    "# Note: some distributions may see overflow in range() example\n",
    "\n",
    "size = int(1E6)\n",
    "\n",
    "%timeit for x in range(size): x**2\n",
    "\n",
    "%timeit for x in np.arange(size): x**2\n",
    "\n",
    "%timeit np.arange(size)**2"
   ]
  },
  {
   "cell_type": "code",
   "execution_count": 36,
   "metadata": {},
   "outputs": [
    {
     "name": "stdout",
     "output_type": "stream",
     "text": [
      "25.8 ms ± 2.78 ms per loop (mean ± std. dev. of 10 runs, 1 loop each)\n"
     ]
    }
   ],
   "source": [
    "# Extra : from the linear algebra package\n",
    "%timeit -n 1 -r 10 np.dot(x,x)"
   ]
  },
  {
   "cell_type": "code",
   "execution_count": 37,
   "metadata": {},
   "outputs": [],
   "source": [
    "# The importance of vectorisation!\n",
    "\n",
    "def add_vectors_loop(a, b):\n",
    "    assert a.size == b.size\n",
    "    c = np.zeros(a.shape)\n",
    "    for i in range(0, a.size):\n",
    "        c[i] = a[i] + b[i]\n",
    "    return c\n",
    "\n",
    "def add_vectors_vectorized(a, b):\n",
    "    assert a.size == b.size\n",
    "    c = np.zeros(a.shape)\n",
    "    c = a + b\n",
    "    return c"
   ]
  },
  {
   "cell_type": "code",
   "execution_count": 38,
   "metadata": {},
   "outputs": [
    {
     "name": "stdout",
     "output_type": "stream",
     "text": [
      "610 μs ± 9.53 μs per loop (mean ± std. dev. of 7 runs, 1,000 loops each)\n",
      "3.29 μs ± 38.6 ns per loop (mean ± std. dev. of 7 runs, 100,000 loops each)\n"
     ]
    }
   ],
   "source": [
    "a = np.arange(0, 2000)\n",
    "b = np.arange(0, 2000)*0.5+1\n",
    "%timeit add_vectors_loop(a, b)\n",
    "%timeit add_vectors_vectorized(a, b)\n",
    "\n",
    "# The vectorized operation is far quicker since it utilizes c-code under the hood. Writing 'for' loops to perform\n",
    "# numerical calcuations is fine in c/c++ since the compiler with vectorize these expressions for us. However, since\n",
    "# python for loops will not be vectorized they should be avoided for number crunching."
   ]
  },
  {
   "cell_type": "markdown",
   "metadata": {},
   "source": [
    "### <span style=\"color:blue\">Exercise 2.13</span>\n",
    "\n",
    "The Taylor series expansion for the trigonometric function $\\arctan(y)$ is :\n",
    "$$\\arctan ( y) \\, = \\,y - \\frac{y^3}{3} + \\frac{y^5}{5}  - \\frac{y^7}{7}  + \\dots $$\n",
    "Now, $\\arctan(1) = \\pi/4 $, so\n",
    "$$ \\pi = 4 \\, \\Big( 1- \\frac{1}{3} + \\frac{1}{5} - \\frac{1}{7} + ... \\Big) $$\n",
    "<br>\n",
    "We can represent the first few terms of the series expansion of $\\arctan(y)$ using a numpy `Polynomial`, with coefficients:\n",
    "$$0, +1, 0, -1/3, 0, +1/5, 0, -1/7,\\ldots\\,$$ \n",
    "and then use it to approximate $\\pi$.\n",
    "\n",
    "Write a function called `arctan` using the expansion above and use it to calculate an approximation of $\\pi$ using numpy polynomials."
   ]
  },
  {
   "cell_type": "code",
   "execution_count": 39,
   "metadata": {},
   "outputs": [],
   "source": [
    "## You should use numpy.polynmial in your function so lets import it\n",
    "from numpy.polynomial import Polynomial"
   ]
  },
  {
   "cell_type": "code",
   "execution_count": 40,
   "metadata": {},
   "outputs": [],
   "source": [
    "## Solution...\n",
    "def arctan(x):\n",
    "    p = Polynomial([0, 1, 0, -1/3, 0, 1/5, 0, -1/7])\n",
    "    return p(x)"
   ]
  },
  {
   "cell_type": "code",
   "execution_count": 41,
   "metadata": {},
   "outputs": [
    {
     "name": "stdout",
     "output_type": "stream",
     "text": [
      "2.8952380952380956\n",
      "REFERENCE: exercise-2_13\n",
      "SATISFIED: True\n",
      "MESSAGES:\n",
      "  - SUCCESS: Your function correctly calculates arctan(1) to a sufficient accuracy\n"
     ]
    }
   ],
   "source": [
    "## The following code is used to check you solution and should not be modified\n",
    "## It should help you by providing feedback to the solution you have provided\n",
    "with pybryt.check(pybryt_reference(2, 13)):\n",
    "    print(4.0*arctan(1))"
   ]
  },
  {
   "cell_type": "markdown",
   "metadata": {},
   "source": [
    "#### Bonus exercise:\n",
    "\n",
    "Find the number of terms required to achieve an approximation of $\\pi$ with an accuracy of order $10^{-4}$. (You can check the difference against `numpy.pi`).\n",
    "\n",
    "Suggestion: Perhaps start by generating a 1D array with the coefficients of the `arctan` expansion. Let the function that returns the 1D array be called `poly_coeff_arctan_ext`. The input argument to the function `poly_coeff_arctan_ext` should be number of terms in the expansion (including the zeros), e.g. the previous expansion up to \"-1/7\" coefficient contained 8 terms.\n",
    "\n",
    "Let your final result be called `mypi`. It will be checked against a referenced solution to provide you with some feedback."
   ]
  },
  {
   "cell_type": "code",
   "execution_count": 42,
   "metadata": {},
   "outputs": [
    {
     "name": "stdout",
     "output_type": "stream",
     "text": [
      "3.141590000000017\n",
      "3.141592653589793\n"
     ]
    }
   ],
   "source": [
    "# Solution...\n",
    "def poly_coeff_arctan_ext(ncoffs):\n",
    "    #rounding ncoffs up to the nearest multiple of 4\n",
    "    nterms = int(4*np.ceil(ncoffs/4))\n",
    "    #note: nterms is always a multiple of 4\n",
    "    a = np.zeros((int(nterms/4),1))\n",
    "    b = np.arange(nterms)\n",
    "    b = np.resize(b,(int(nterms/2),2))\n",
    "    b = np.resize(b[:,1:2],(int(nterms/4),2))\n",
    "    #print(b)\n",
    "    d = np.concatenate((a,1./b[:,0:1],a,-1./b[:,1:2]),axis=1)\n",
    "    d = d.flatten()\n",
    "    return d\n",
    "\n",
    "f = Polynomial(poly_coeff_arctan_ext(753696))\n",
    "\n",
    "mypi = 4*f(1)\n",
    "\n",
    "print(mypi)\n",
    "print(np.pi)"
   ]
  },
  {
   "cell_type": "code",
   "execution_count": 43,
   "metadata": {},
   "outputs": [
    {
     "name": "stdout",
     "output_type": "stream",
     "text": [
      "REFERENCE: exercise-2_131\n",
      "SATISFIED: False\n",
      "MESSAGES:\n",
      "  - Your approx. of pi is accurate to 2 digits.\n",
      "  - Your approx. of pi is accurate to 3 digits.\n",
      "  - Your approx. of pi is accurate to 4 digits.\n",
      "  - Good! Your approx. of pi is accurate to 5 digits.\n",
      " \n",
      " \n",
      " \n",
      " \n",
      " \n",
      "  - ERROR: Your `poly_coeff_arctan_ext` function returns the correct array of the coefficients\n",
      "  - Well done! No large iterator loops were detected.\n"
     ]
    }
   ],
   "source": [
    "## The following code is used to check your solution and should not be modified\n",
    "## It should help you by providing feedback to the solution you have provided\n",
    "## NOTE: In the PyBryt output below, pay attention to the text, don't worry if\n",
    "## you see a 'SATISFIED: False'\n",
    "with pybryt.check(pybryt_reference(2, 131)):\n",
    "    poly_coeff_arctan_ext(753696)\n",
    "    mypi"
   ]
  },
  {
   "cell_type": "markdown",
   "metadata": {},
   "source": [
    "### <span style=\"color:blue\">Exercise 2.14</span> : Darts (calculating $\\pi$ again)\n",
    "\n",
    "\n",
    "#### A Monte Carlo method (aka \"throwing darts\")\n",
    "\n",
    "Geometry gives us an expression for $\\pi$:\n",
    "\n",
    "Let $N_{in}$ be the number of darts falling on the board, and $N_{tot}=N_{in}+N_{out}$ the total number of trials.\n",
    "\n",
    "![](figures/darts.png)\n",
    "\n",
    "Owing to the geometry we then have\n",
    "$$\n",
    "\\pi \\approx 4 N_{in} / N_{tot}.\n",
    "$$\n",
    "\n",
    "Try using `nparray`s to approximate $\\pi$ according to the following algorithm:\n",
    "1. Choose a sample size `ntot`.\n",
    "2. Generate an array of random $x$ coordinates $0 \\leq x < 1$.\n",
    "3. Generate an array of random $y$ coordinates $0 \\leq y < 1$.\n",
    "4. Count the number for which $x^2 + y^2 < 1$.\n",
    "5. Compute an approximate $\\pi$.\n",
    "6. Repeat for several values of `ntot` and print the error.\n",
    "\n",
    "The name of the function you should use should be `f_02_14(ntot)` where `ntot` is the number of trials/throws."
   ]
  },
  {
   "cell_type": "code",
   "execution_count": 44,
   "metadata": {},
   "outputs": [],
   "source": [
    "## Solution... (don't forget to set ntot!)\n",
    "\n",
    "ntot = 300000\n",
    "\n",
    "def f_02_14(ntot):\n",
    "    ## just checking if pybryt catches this dummy loop:\n",
    "    ##for i in range(15): i\n",
    "    x = np.random.ranf(ntot)\n",
    "    y = np.random.ranf(ntot)\n",
    "    sqrr = np.sqrt(x**2 + y**2)\n",
    "    ##check how many instances have a r < 1\n",
    "    nin = float(np.size(np.where(sqrr < 1)))\n",
    "    x = nin/(ntot)\n",
    "    return 4*x"
   ]
  },
  {
   "cell_type": "code",
   "execution_count": 45,
   "metadata": {},
   "outputs": [
    {
     "name": "stdout",
     "output_type": "stream",
     "text": [
      "3.1449066666666665\n",
      "REFERENCE: exercise-2_14\n",
      "SATISFIED: False\n",
      "MESSAGES:\n",
      "  - Nice. No loops could be found in your function.\n",
      "  - Your approx. of pi is accurate to 2 digits.\n",
      " \n",
      " \n",
      " \n",
      " \n",
      " \n",
      " \n",
      " \n",
      " \n",
      "  - Well done! No large iterator loops were detected.\n"
     ]
    }
   ],
   "source": [
    "## The following code is used to check you solution and should not be modified\n",
    "## It should help you by providing feedback to the solution you have provided\n",
    "with pybryt.check(pybryt_reference(2, 14)):\n",
    "    print(f_02_14(ntot))    "
   ]
  },
  {
   "cell_type": "markdown",
   "metadata": {},
   "source": [
    "### <span style=\"color:blue\">Exercise 2.15</span>\n",
    "\n",
    "Consider the following functions defined on a 2D 'square' domain $\\Omega = [0,1]$:\n",
    "\n",
    "$$ a(x) = \\tanh\\left(50\\sin\\left(\\frac{25}{2}\\pi x\\right)\\right)$$\n",
    "\n",
    "and\n",
    "\n",
    "$$ f(\\mathbf{x}) = a(a(|\\mathbf{x}-\\mathbf{x}_0|)) + a(a(|\\mathbf{x}-\\mathbf{x}_1|)) $$\n",
    "\n",
    "for any $\\mathbf{x} \\in \\Omega$, with $\\mathbf{x}_0=(0,0)$ and $\\mathbf{x}_1=(1,1)$\n",
    "\n",
    "Plot $f$ on $\\Omega$. You may want to use `numpy.meshgrid`.\n",
    "\n",
    "Call the function $f(\\mathbf{x})$ `func_f(x,y)` and have its input be 1D array's for the sample x and y-coordinates. <br>\n",
    "The function $a(x)$ should be called `func_a(x)`. <br>"
   ]
  },
  {
   "cell_type": "code",
   "execution_count": 46,
   "metadata": {},
   "outputs": [],
   "source": [
    "# Plotting imports\n",
    "%matplotlib widget\n",
    "import matplotlib.pyplot as plt"
   ]
  },
  {
   "cell_type": "code",
   "execution_count": 47,
   "metadata": {},
   "outputs": [
    {
     "data": {
      "application/vnd.jupyter.widget-view+json": {
       "model_id": "35ca2399b0664894a2da185f35bd07eb",
       "version_major": 2,
       "version_minor": 0
      },
      "image/png": "[encoded data removed]",
      "text/html": [
       "\n",
       "            <div style=\"display: inline-block;\">\n",
       "                <div class=\"jupyter-widgets widget-label\" style=\"text-align: center;\">\n",
       "                    Figure\n",
       "                </div>\n",
       "                <img src='data:image/png;base64,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' width=640.0/>\n",
       "            </div>\n",
       "        "
      ],
      "text/plain": [
       "Canvas(toolbar=Toolbar(toolitems=[('Home', 'Reset original view', 'home', 'home'), ('Back', 'Back to previous …"
      ]
     },
     "metadata": {},
     "output_type": "display_data"
    }
   ],
   "source": [
    "fig = plt.figure()\n",
    "## Solution...\n",
    "\n",
    "def func_a(x):\n",
    "    return np.tanh(50*np.sin(12.5*np.pi*x))\n",
    "\n",
    "x = np.arange(0, 1, 0.001)\n",
    "y = np.arange(0, 1, 0.001)\n",
    "\n",
    "def func_f(x, y, x0=np.array([0, 0]),x1=np.array([1, 1])):\n",
    "    xx, yy = np.meshgrid(x,y, sparse=True)\n",
    "    r1 = np.sqrt((xx-x0[0])**2 + (yy-x0[1])**2)\n",
    "    r2 = np.sqrt((xx-x1[0])**2 + (yy-x1[1])**2)\n",
    "    return func_a(func_a(r1))+func_a(func_a(r2))\n",
    "\n",
    "z = func_f(x,y)\n",
    "h = plt.contourf(x, y, z)\n",
    "plt.axis('scaled')\n",
    "plt.show()"
   ]
  },
  {
   "cell_type": "code",
   "execution_count": 48,
   "metadata": {},
   "outputs": [
    {
     "name": "stdout",
     "output_type": "stream",
     "text": [
      "REFERENCE: exercise-2_15\n",
      "SATISFIED: False\n",
      "MESSAGES:\n",
      "  - SUCCESS: Great, your function a(x) seems to be working fine.\n",
      "  - SUCCESS: Great, your function f(x) seems to be working fine.\n",
      "  - SUCCESS: Well done! You have used vectorisation instead of using a loop.\n"
     ]
    }
   ],
   "source": [
    "## The following code is used to check you solution and should not be modified\n",
    "## It should help you by providing feedback to the solution you have provided\n",
    "x = np.arange(0, 1, 0.001)\n",
    "y = np.arange(0, 1, 0.001)\n",
    "with pybryt.check(pybryt_reference(2, 15)):\n",
    "    test_pts = np.linspace(0, 2,10000)\n",
    "    func_a(test_pts)\n",
    "    func_f(x,y)"
   ]
  }
 ],
 "metadata": {
  "anaconda-cloud": {},
  "celltoolbar": "Raw Cell Format",
  "kernelspec": {
   "display_name": "Python 3 (ipykernel)",
   "language": "python",
   "name": "python3"
  },
  "language_info": {
   "codemirror_mode": {
    "name": "ipython",
    "version": 3
   },
   "file_extension": ".py",
   "mimetype": "text/x-python",
   "name": "python",
   "nbconvert_exporter": "python",
   "pygments_lexer": "ipython3",
   "version": "3.12.7"
  }
 },
 "nbformat": 4,
 "nbformat_minor": 4
}
